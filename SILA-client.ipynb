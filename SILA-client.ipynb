{
 "cells": [
  {
   "cell_type": "code",
   "execution_count": 1,
   "metadata": {},
   "outputs": [],
   "source": [
    "### 9/2019; Thorsten Gressling; cleverlab.ai\n",
    "# see also https://gitlab.com/SiLA2/sila_python1.0/blob/master/examples/HelloSiLA2/HelloSiLA2_minimal/HelloSiLA2_testclient.py\n",
    "\n",
    "# source /home/{your_name}/py3venv/sila2_venv/bin/activate\n",
    "# python HelloSiLA2_server.py\n",
    "# (test: 'python HelloSiLA2_client.py')\n",
    "# jupyter notebook\n",
    "# \n"
   ]
  },
  {
   "cell_type": "code",
   "execution_count": 2,
   "metadata": {},
   "outputs": [],
   "source": [
    "import sila2lib.sila_client as mySila\n",
    "from sila2lib.framework import SiLAFramework_pb2 as fwpb2\n",
    "\n",
    "import sila2lib.HelloSiLA2.GreetingProvider.gRPC.GreetingProvider_pb2 as gpr\n",
    "import sila2lib.HelloSiLA2.GreetingProvider.gRPC.GreetingProvider_pb2_grpc as gprpc"
   ]
  },
  {
   "cell_type": "code",
   "execution_count": 3,
   "metadata": {},
   "outputs": [],
   "source": [
    "from sila2lib.framework.feature_definitions import SiLAService_pb2 as theFeatures"
   ]
  },
  {
   "cell_type": "code",
   "execution_count": 4,
   "metadata": {},
   "outputs": [
    {
     "name": "stderr",
     "output_type": "stream",
     "text": [
      "ERROR:root:Could not load encryption certificate, no encryption will be used: [Errno 2] No such file or directory: 'sila_server.crt'\n"
     ]
    }
   ],
   "source": [
    "# create client\n",
    "self = mySila\n",
    "\n",
    "mySila.SiLA2Client.__init__(self, name=\"HelloSiLA2Client\", server_ip='127.0.0.1', server_port=50051)"
   ]
  },
  {
   "cell_type": "code",
   "execution_count": 5,
   "metadata": {},
   "outputs": [],
   "source": [
    "myStub = self.SiLAService_stub"
   ]
  },
  {
   "cell_type": "code",
   "execution_count": 6,
   "metadata": {},
   "outputs": [
    {
     "data": {
      "text/plain": [
       "<sila2lib.framework.feature_definitions.SiLAService_pb2_grpc.SiLAServiceStub at 0x7f3e1418a630>"
      ]
     },
     "execution_count": 6,
     "metadata": {},
     "output_type": "execute_result"
    }
   ],
   "source": [
    "myStub"
   ]
  },
  {
   "cell_type": "code",
   "execution_count": 7,
   "metadata": {},
   "outputs": [],
   "source": [
    "response = myStub.Get_ImplementedFeatures(theFeatures.Get_ImplementedFeatures_Parameters())"
   ]
  },
  {
   "cell_type": "code",
   "execution_count": 8,
   "metadata": {},
   "outputs": [
    {
     "data": {
      "text/plain": [
       "ImplementedFeatures {\n",
       "  FeatureIdentifier {\n",
       "    value: \"SiLAService\"\n",
       "  }\n",
       "}\n",
       "ImplementedFeatures {\n",
       "  FeatureIdentifier {\n",
       "    value: \"SimulationController\"\n",
       "  }\n",
       "}\n",
       "ImplementedFeatures {\n",
       "  FeatureIdentifier {\n",
       "    value: \"GreetingProvider\"\n",
       "  }\n",
       "}"
      ]
     },
     "execution_count": 8,
     "metadata": {},
     "output_type": "execute_result"
    }
   ],
   "source": [
    "response"
   ]
  },
  {
   "cell_type": "code",
   "execution_count": 9,
   "metadata": {},
   "outputs": [],
   "source": [
    "# GreetingProvider\n",
    "\n",
    "self.gp = gprpc.GreetingProviderStub(self.channel)"
   ]
  },
  {
   "cell_type": "code",
   "execution_count": 10,
   "metadata": {},
   "outputs": [
    {
     "data": {
      "text/plain": [
       "value: \"Hello Thorsten!\""
      ]
     },
     "execution_count": 10,
     "metadata": {},
     "output_type": "execute_result"
    }
   ],
   "source": [
    "# GreetingProvider - SayHello\n",
    "myName = fwpb2.String(value = \"Thorsten\")\n",
    "response = self.gp.SayHello(gpr.SayHello_Parameters(Name = myName))\n",
    "response.Greeting"
   ]
  },
  {
   "cell_type": "code",
   "execution_count": 11,
   "metadata": {},
   "outputs": [
    {
     "data": {
      "text/plain": [
       "value: 2019"
      ]
     },
     "execution_count": 11,
     "metadata": {},
     "output_type": "execute_result"
    }
   ],
   "source": [
    "# GreetingProvider - Get_StartYear\n",
    "response = self.gp.Get_StartYear(gpr.Get_StartYear_Parameters())\n",
    "response.StartYear"
   ]
  },
  {
   "cell_type": "code",
   "execution_count": null,
   "metadata": {},
   "outputs": [],
   "source": []
  }
 ],
 "metadata": {
  "kernelspec": {
   "display_name": "sila2_venv",
   "language": "python",
   "name": "sila2_venv"
  },
  "language_info": {
   "codemirror_mode": {
    "name": "ipython",
    "version": 3
   },
   "file_extension": ".py",
   "mimetype": "text/x-python",
   "name": "python",
   "nbconvert_exporter": "python",
   "pygments_lexer": "ipython3",
   "version": "3.7.3"
  },
  "toc-autonumbering": true,
  "toc-showcode": true,
  "toc-showmarkdowntxt": true,
  "toc-showtags": false
 },
 "nbformat": 4,
 "nbformat_minor": 4
}
