{
  "nbformat": 4,
  "nbformat_minor": 0,
  "metadata": {
    "colab": {
      "name": "36-1.1 k-nearest neighbors algorithm (k-NN)",
      "provenance": [],
      "collapsed_sections": [],
      "authorship_tag": "ABX9TyPfMBlXH0j08NAAvdt1jLRq",
      "include_colab_link": true
    },
    "kernelspec": {
      "name": "python3",
      "display_name": "Python 3"
    }
  },
  "cells": [
    {
      "cell_type": "markdown",
      "metadata": {
        "id": "view-in-github",
        "colab_type": "text"
      },
      "source": [
        "<a href=\"https://colab.research.google.com/github/Gressling/examples/blob/master/36-1.1%20k-nearest%20neighbors%20algorithm%20(k-NN).ipynb\" target=\"_parent\"><img src=\"https://colab.research.google.com/assets/colab-badge.svg\" alt=\"Open In Colab\"/></a>"
      ]
    },
    {
      "cell_type": "code",
      "metadata": {
        "id": "RBJ1-Y05zkcr"
      },
      "source": [
        "# k-nearest neighbors algorithm (k-NN)\n",
        "# author: Gressling, T\n",
        "# license: MIT License # code: github.com/gressling/examples\n",
        "# activity: single example # index: 36-1 "
      ],
      "execution_count": null,
      "outputs": []
    },
    {
      "cell_type": "code",
      "metadata": {
        "id": "ENLS0ZMzztte"
      },
      "source": [
        "# case k = 3 (solid circle) -> assigned to triangle\n",
        " # (2 triangles and 1 square in circle)\n",
        "# case k = 5 (dashed circle) -> assigned to square\n",
        " # (3 squares and 2 triangles in circle)"
      ],
      "execution_count": null,
      "outputs": []
    },
    {
      "cell_type": "code",
      "metadata": {
        "id": "PEEt2PYf0bqu"
      },
      "source": [
        "# https://scikit-learn.org/stable/modules/generated/sklearn.neighbors.KNeighborsClassifier.html\n",
        "from sklearn.neighbors import KNeighborsClassifier"
      ],
      "execution_count": 2,
      "outputs": []
    },
    {
      "cell_type": "code",
      "metadata": {
        "id": "7m5bOEh10Ymg"
      },
      "source": [
        "X = [[0], [1], [2], [3]]\n",
        "y = [0, 0, 1, 1]"
      ],
      "execution_count": 1,
      "outputs": []
    },
    {
      "cell_type": "code",
      "metadata": {
        "colab": {
          "base_uri": "https://localhost:8080/"
        },
        "id": "9kuwOg_k0dMG",
        "outputId": "d991e70a-0b9f-4a94-c519-0a09afa6edc1"
      },
      "source": [
        "neigh = KNeighborsClassifier(n_neighbors=3)\n",
        "neigh.fit(X, y)"
      ],
      "execution_count": 3,
      "outputs": [
        {
          "output_type": "execute_result",
          "data": {
            "text/plain": [
              "KNeighborsClassifier(algorithm='auto', leaf_size=30, metric='minkowski',\n",
              "                     metric_params=None, n_jobs=None, n_neighbors=3, p=2,\n",
              "                     weights='uniform')"
            ]
          },
          "metadata": {
            "tags": []
          },
          "execution_count": 3
        }
      ]
    },
    {
      "cell_type": "code",
      "metadata": {
        "colab": {
          "base_uri": "https://localhost:8080/"
        },
        "id": "YD70lM2Y0iIn",
        "outputId": "33503b30-38ca-43bd-8f03-7a2260908685"
      },
      "source": [
        "print(neigh.predict([[1.1]]))"
      ],
      "execution_count": 4,
      "outputs": [
        {
          "output_type": "stream",
          "text": [
            "[0]\n"
          ],
          "name": "stdout"
        }
      ]
    },
    {
      "cell_type": "code",
      "metadata": {
        "colab": {
          "base_uri": "https://localhost:8080/"
        },
        "id": "5PzXOwWi0Pj-",
        "outputId": "a555e809-5e13-4102-d9b5-99ec2c9679f5"
      },
      "source": [
        "print(neigh.predict_proba([[0.9]]))"
      ],
      "execution_count": 5,
      "outputs": [
        {
          "output_type": "stream",
          "text": [
            "[[0.66666667 0.33333333]]\n"
          ],
          "name": "stdout"
        }
      ]
    }
  ]
}