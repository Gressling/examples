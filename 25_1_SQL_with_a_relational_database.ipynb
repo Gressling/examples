{
  "nbformat": 4,
  "nbformat_minor": 0,
  "metadata": {
    "colab": {
      "name": "25-1 SQL with a relational database",
      "provenance": [],
      "collapsed_sections": [],
      "authorship_tag": "ABX9TyPAMfLTojRRWZckaqLhxjjq",
      "include_colab_link": true
    },
    "kernelspec": {
      "name": "python3",
      "display_name": "Python 3"
    }
  },
  "cells": [
    {
      "cell_type": "markdown",
      "metadata": {
        "id": "view-in-github",
        "colab_type": "text"
      },
      "source": [
        "<a href=\"https://colab.research.google.com/github/Gressling/examples/blob/master/25_1_SQL_with_a_relational_database.ipynb\" target=\"_parent\"><img src=\"https://colab.research.google.com/assets/colab-badge.svg\" alt=\"Open In Colab\"/></a>"
      ]
    },
    {
      "cell_type": "code",
      "metadata": {
        "id": "TLGCzrNPNLJ4"
      },
      "source": [
        "# SQL with a relational database\n",
        "# author: Gressling, T\n",
        "# license: MIT License # code: github.com/gressling/examples\n",
        "# activity: single example # index: 25-1 "
      ],
      "execution_count": null,
      "outputs": []
    },
    {
      "cell_type": "code",
      "metadata": {
        "id": "ooTiqrigNQG7"
      },
      "source": [
        "import psycopg2\n",
        "conn = psycopg2.connect(\"dbname='example_db' user='dbuser'\n",
        " host='localhost' password='password'\")\n",
        "cur = conn.cursor()"
      ],
      "execution_count": null,
      "outputs": []
    },
    {
      "cell_type": "code",
      "metadata": {
        "id": "IyUJDE2tNTrb"
      },
      "source": [
        "cur.execute(\"\"\"SELECT * from results where yield>80\"\"\")\n",
        "rows = cur.fetchall()"
      ],
      "execution_count": null,
      "outputs": []
    },
    {
      "cell_type": "code",
      "metadata": {
        "id": "qiwHaynnNVyz"
      },
      "source": [
        "for row in rows:\n",
        " print(\" \", row[0])"
      ],
      "execution_count": null,
      "outputs": []
    }
  ]
}