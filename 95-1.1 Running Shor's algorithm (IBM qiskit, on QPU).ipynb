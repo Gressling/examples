{
  "nbformat": 4,
  "nbformat_minor": 0,
  "metadata": {
    "colab": {
      "name": "95-1.1 Running Shor's algorithm (IBM qiskit, on QPU)",
      "provenance": [],
      "collapsed_sections": [],
      "authorship_tag": "ABX9TyMyvhxgEkRWJm3yDNPp4MOn",
      "include_colab_link": true
    },
    "kernelspec": {
      "name": "python3",
      "display_name": "Python 3"
    }
  },
  "cells": [
    {
      "cell_type": "markdown",
      "metadata": {
        "id": "view-in-github",
        "colab_type": "text"
      },
      "source": [
        "<a href=\"https://colab.research.google.com/github/Gressling/examples/blob/master/95-1.1%20Running%20Shor's%20algorithm%20(IBM%20qiskit%2C%20on%20QPU).ipynb\" target=\"_parent\"><img src=\"https://colab.research.google.com/assets/colab-badge.svg\" alt=\"Open In Colab\"/></a>"
      ]
    },
    {
      "cell_type": "code",
      "metadata": {
        "id": "epaFNDCkgdPO"
      },
      "source": [
        "# Running Shor's algorithm (IBM qiskit, on QPU)\n",
        "# author: IBM\n",
        "# license: MIT License # code: github.com/gressling/examples\n",
        "# activity: single example # index: 95-1\n",
        "\n",
        "# access: https://github.com/Qiskit/qiskit-ibmq-provider\n",
        "# access: https://quantum-computing.ibm.com/ "
      ],
      "execution_count": 1,
      "outputs": []
    },
    {
      "cell_type": "code",
      "metadata": {
        "id": "KVO-zOcN8XMg"
      },
      "source": [
        "!pip install qiskit"
      ],
      "execution_count": null,
      "outputs": []
    },
    {
      "cell_type": "code",
      "metadata": {
        "id": "IaiouvV067FD"
      },
      "source": [
        "from qiskit import IBMQ\n",
        "from qiskit.aqua import QuantumInstance\n",
        "from qiskit.aqua.algorithms import Shor"
      ],
      "execution_count": 4,
      "outputs": []
    },
    {
      "cell_type": "code",
      "metadata": {
        "colab": {
          "base_uri": "https://localhost:8080/"
        },
        "id": "NcrtxJiw681j",
        "outputId": "d38c0470-f650-4718-98d6-b3b2cc0a7fb8"
      },
      "source": [
        "IBMQ.enable_account('e7344ad504273e671xxxxxxxx6226e7977f0c43a3404e6775816720640bd42a4f2bff0b1f19d0d6527f492') #<<API TOKEN>>\n",
        "provider = IBMQ.get_provider(hub='ibm-q')\n",
        "backend = provider.get_backend('ibmq_qasm_simulator')"
      ],
      "execution_count": 5,
      "outputs": [
        {
          "output_type": "stream",
          "text": [
            "/usr/local/lib/python3.6/dist-packages/qiskit/providers/ibmq/ibmqfactory.py:109: UserWarning: Timestamps in IBMQ backend properties, jobs, and job results are all now in local time instead of UTC.\n",
            "  warnings.warn('Timestamps in IBMQ backend properties, jobs, and job results '\n"
          ],
          "name": "stderr"
        }
      ]
    },
    {
      "cell_type": "code",
      "metadata": {
        "colab": {
          "base_uri": "https://localhost:8080/"
        },
        "id": "n6uSnfLf6_yL",
        "outputId": "f849f36b-e218-4d49-da76-69a52c752ac7"
      },
      "source": [
        "factors = Shor(21)\n",
        "result_dict = factors.run(QuantumInstance(backend, shots=1, skip_qobj_validation=False))\n",
        "print(result_dict['factors'])"
      ],
      "execution_count": 6,
      "outputs": [
        {
          "output_type": "stream",
          "text": [
            "[[3, 7]]\n"
          ],
          "name": "stdout"
        }
      ]
    },
    {
      "cell_type": "code",
      "metadata": {
        "id": "CK5ntnho7F1T"
      },
      "source": [
        "# Shor(21) will find the prime factors for 21"
      ],
      "execution_count": null,
      "outputs": []
    }
  ]
}