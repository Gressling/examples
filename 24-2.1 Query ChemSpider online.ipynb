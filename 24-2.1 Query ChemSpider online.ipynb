{
 "cells": [
  {
   "cell_type": "code",
   "execution_count": 1,
   "metadata": {
    "id": "kXZimKPU3Wj9"
   },
   "outputs": [],
   "source": [
    "# Query ChemSpider online\n",
    "# author: Gressling, T\n",
    "# license: MIT License # code: github.com/gressling/examples\n",
    "# activity: single example # index: 24-2 \n",
    "# Obtain API Key here: https://developer.rsc.org/my-apps"
   ]
  },
  {
   "cell_type": "code",
   "execution_count": null,
   "metadata": {
    "colab": {
     "base_uri": "https://localhost:8080/"
    },
    "executionInfo": {
     "elapsed": 6119,
     "status": "ok",
     "timestamp": 1605342491876,
     "user": {
      "displayName": "Dr. Thorsten Gressling",
      "photoUrl": "https://lh3.googleusercontent.com/a-/AOh14Gjsy54zs1Pd2tw4fMBrz3a7FsYlzNHgwHWDqLywqA=s64",
      "userId": "08619859847936335393"
     },
     "user_tz": -60
    },
    "id": "6ueCajYc3i8t",
    "outputId": "ce7910ed-549b-4e11-84c7-f3f2e7c6818e"
   },
   "outputs": [],
   "source": [
    "!pip install ChemSpiPy"
   ]
  },
  {
   "cell_type": "code",
   "execution_count": 3,
   "metadata": {
    "executionInfo": {
     "elapsed": 693,
     "status": "ok",
     "timestamp": 1605342679143,
     "user": {
      "displayName": "Dr. Thorsten Gressling",
      "photoUrl": "https://lh3.googleusercontent.com/a-/AOh14Gjsy54zs1Pd2tw4fMBrz3a7FsYlzNHgwHWDqLywqA=s64",
      "userId": "08619859847936335393"
     },
     "user_tz": -60
    },
    "id": "TbNMCyZR4UXN"
   },
   "outputs": [],
   "source": [
    "from chemspipy import ChemSpider"
   ]
  },
  {
   "cell_type": "code",
   "execution_count": 4,
   "metadata": {
    "executionInfo": {
     "elapsed": 442,
     "status": "ok",
     "timestamp": 1605342932148,
     "user": {
      "displayName": "Dr. Thorsten Gressling",
      "photoUrl": "https://lh3.googleusercontent.com/a-/AOh14Gjsy54zs1Pd2tw4fMBrz3a7FsYlzNHgwHWDqLywqA=s64",
      "userId": "08619859847936335393"
     },
     "user_tz": -60
    },
    "id": "aZ5ttIYy4YDN"
   },
   "outputs": [],
   "source": [
    "cs = ChemSpider('IAxxxe')"
   ]
  },
  {
   "cell_type": "code",
   "execution_count": 5,
   "metadata": {
    "executionInfo": {
     "elapsed": 404,
     "status": "ok",
     "timestamp": 1605342957296,
     "user": {
      "displayName": "Dr. Thorsten Gressling",
      "photoUrl": "https://lh3.googleusercontent.com/a-/AOh14Gjsy54zs1Pd2tw4fMBrz3a7FsYlzNHgwHWDqLywqA=s64",
      "userId": "08619859847936335393"
     },
     "user_tz": -60
    },
    "id": "4F2oT4cU3cFO"
   },
   "outputs": [],
   "source": [
    "c1 = cs.get_compound(236) # Specify compound by ChemSpider ID\n",
    "c2 = cs.search('benzene') # Search using name, SMILES, InChI, InChIKey, etc."
   ]
  },
  {
   "cell_type": "code",
   "execution_count": 6,
   "metadata": {
    "colab": {
     "base_uri": "https://localhost:8080/",
     "height": 167
    },
    "executionInfo": {
     "elapsed": 671,
     "status": "ok",
     "timestamp": 1605342964195,
     "user": {
      "displayName": "Dr. Thorsten Gressling",
      "photoUrl": "https://lh3.googleusercontent.com/a-/AOh14Gjsy54zs1Pd2tw4fMBrz3a7FsYlzNHgwHWDqLywqA=s64",
      "userId": "08619859847936335393"
     },
     "user_tz": -60
    },
    "id": "FLfzsSDH5Z1k",
    "outputId": "9f7c773f-f34f-4045-8223-6511d0fb620e"
   },
   "outputs": [
    {
     "data": {
      "image/png": "[encoded data removed]",
      "text/plain": [
       "Compound(236)"
      ]
     },
     "execution_count": 6,
     "metadata": {},
     "output_type": "execute_result"
    }
   ],
   "source": [
    "c1"
   ]
  },
  {
   "cell_type": "code",
   "execution_count": 7,
   "metadata": {
    "colab": {
     "base_uri": "https://localhost:8080/",
     "height": 35
    },
    "executionInfo": {
     "elapsed": 1136,
     "status": "ok",
     "timestamp": 1605342993868,
     "user": {
      "displayName": "Dr. Thorsten Gressling",
      "photoUrl": "https://lh3.googleusercontent.com/a-/AOh14Gjsy54zs1Pd2tw4fMBrz3a7FsYlzNHgwHWDqLywqA=s64",
      "userId": "08619859847936335393"
     },
     "user_tz": -60
    },
    "id": "nPxIdFPd5fIU",
    "outputId": "d2df328d-c5dd-4353-a92a-c850d0d215af"
   },
   "outputs": [
    {
     "data": {
      "text/plain": [
       "'InChI=1S/C6H6/c1-2-4-6-5-3-1/h1-6H'"
      ]
     },
     "execution_count": 7,
     "metadata": {},
     "output_type": "execute_result"
    }
   ],
   "source": [
    "c1.inchi"
   ]
  },
  {
   "cell_type": "code",
   "execution_count": 9,
   "metadata": {},
   "outputs": [],
   "source": [
    "c2 = cs.search('aspirin') # Search using name, SMILES, InChI, InChIKey, etc."
   ]
  },
  {
   "cell_type": "code",
   "execution_count": 13,
   "metadata": {},
   "outputs": [
    {
     "data": {
      "image/png": "[encoded data removed]",
      "text/plain": [
       "Compound(2157)"
      ]
     },
     "execution_count": 13,
     "metadata": {},
     "output_type": "execute_result"
    }
   ],
   "source": [
    "cs.get_compound(2157)"
   ]
  },
  {
   "cell_type": "code",
   "execution_count": null,
   "metadata": {},
   "outputs": [],
   "source": []
  }
 ],
 "metadata": {
  "colab": {
   "authorship_tag": "ABX9TyPhjIyRA3YdvMCCv3RUzP0V",
   "collapsed_sections": [],
   "name": "24-2.1 Query ChemSpider online",
   "provenance": []
  },
  "kernelspec": {
   "display_name": "Python 3",
   "language": "python",
   "name": "python3"
  },
  "language_info": {
   "codemirror_mode": {
    "name": "ipython",
    "version": 3
   },
   "file_extension": ".py",
   "mimetype": "text/x-python",
   "name": "python",
   "nbconvert_exporter": "python",
   "pygments_lexer": "ipython3",
   "version": "3.6.9"
  }
 },
 "nbformat": 4,
 "nbformat_minor": 1
}
