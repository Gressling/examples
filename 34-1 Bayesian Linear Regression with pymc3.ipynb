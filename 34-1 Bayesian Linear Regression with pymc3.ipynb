{
  "nbformat": 4,
  "nbformat_minor": 0,
  "metadata": {
    "colab": {
      "name": "34-1 Bayesian Linear Regression with pymc3",
      "provenance": [],
      "collapsed_sections": [],
      "authorship_tag": "ABX9TyPI4XnERWQEbC65spBC+3G8",
      "include_colab_link": true
    },
    "kernelspec": {
      "name": "python3",
      "display_name": "Python 3"
    }
  },
  "cells": [
    {
      "cell_type": "markdown",
      "metadata": {
        "id": "view-in-github",
        "colab_type": "text"
      },
      "source": [
        "<a href=\"https://colab.research.google.com/github/Gressling/examples/blob/master/34-1%20Bayesian%20Linear%20Regression%20with%20pymc3.ipynb\" target=\"_parent\"><img src=\"https://colab.research.google.com/assets/colab-badge.svg\" alt=\"Open In Colab\"/></a>"
      ]
    },
    {
      "cell_type": "code",
      "metadata": {
        "id": "71qU9nYMyAN6"
      },
      "source": [
        "# Bayesian Linear Regression with pymc3\n",
        "# author: Gressling, T\n",
        "# license: MIT License # code: github.com/gressling/examples\n",
        "# activity: single example # index: 34-1 "
      ],
      "execution_count": null,
      "outputs": []
    },
    {
      "cell_type": "code",
      "metadata": {
        "id": "O9BbKTC_yRT2"
      },
      "source": [
        "import pymc3 as pm\n",
        "from sklearn.model_selection import train_test_split"
      ],
      "execution_count": null,
      "outputs": []
    },
    {
      "cell_type": "code",
      "metadata": {
        "id": "Qd7ai97yyTRG"
      },
      "source": [
        "data = pd.read_csv('data.csv')\n",
        "X = data.drop([Sample_ID', 'pH'], axis = 1) # the features\n",
        "Y = data['pH'] "
      ],
      "execution_count": null,
      "outputs": []
    },
    {
      "cell_type": "code",
      "metadata": {
        "id": "i0lS5LMDyVnF"
      },
      "source": [
        "X_train, X_test, y_train, y_test = train_test_split(X, Y, test_size=0.2)\n",
        "Formula = 'pH ~ ' + ' + '.join(\n",
        " ['%s' % variable for variable in X_train.columns[0:]])"
      ],
      "execution_count": null,
      "outputs": []
    },
    {
      "cell_type": "code",
      "metadata": {
        "id": "4u0LIcjTyYOq"
      },
      "source": [
        "with pm.Model() as normal_model:\n",
        " f = pm.glm.families.Normal()\n",
        " pm.GLM.from_formula(Formula, data=pd.concat([X_train, y_train],\n",
        " axis=1), family=f)\n",
        " normal_trace = pm.sample(draws=2000, chains = 2, tune = 500)"
      ],
      "execution_count": null,
      "outputs": []
    },
    {
      "cell_type": "code",
      "metadata": {
        "id": "bcJtUH4NyaQr"
      },
      "source": [
        "plt.figure(figsize=(7, 7))\n",
        "traceplot(normal_trace[100:])\n",
        "plt.tight_layout()"
      ],
      "execution_count": null,
      "outputs": []
    }
  ]
}